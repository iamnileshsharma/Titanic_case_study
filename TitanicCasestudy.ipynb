{
 "cells": [
  {
   "cell_type": "markdown",
   "id": "94647a4e",
   "metadata": {},
   "source": [
    "## This notebook contains detailed analysis of Titanic dataset and then predics the survival of test data"
   ]
  },
  {
   "cell_type": "code",
   "execution_count": null,
   "id": "0f412af6",
   "metadata": {},
   "outputs": [],
   "source": [
    "import pandas as pd\n",
    "import matplotlib.pyplot as plt\n",
    "from sklearn.linear_model import LogisticRegression\n",
    "from sklearn.metrics import accuracy_score\n",
    "from sklearn.preprocessing import PolynomialFeatures, StandardScaler\n",
    "from sklearn.model_selection import cross_val_score\n",
    "from sklearn.pipeline import make_pipeline"
   ]
  },
  {
   "cell_type": "code",
   "execution_count": null,
   "id": "418087b4",
   "metadata": {},
   "outputs": [],
   "source": [
    "data=pd.read_csv(\"titanic/train.csv\")\n",
    "test_data=pd.read_csv(\"titanic/test.csv\")"
   ]
  },
  {
   "cell_type": "code",
   "execution_count": null,
   "id": "991981fe",
   "metadata": {},
   "outputs": [],
   "source": [
    "data.isnull().sum()"
   ]
  },
  {
   "cell_type": "markdown",
   "id": "26aca590",
   "metadata": {},
   "source": [
    "<p>Dropping Cabin columns as it has multiple null values</p>\n",
    "Also fill the null age as average age and null embarked with mode of embarked"
   ]
  },
  {
   "cell_type": "code",
   "execution_count": null,
   "id": "49624e7b",
   "metadata": {},
   "outputs": [],
   "source": [
    "data.drop(columns=[\"Cabin\"], inplace=True)\n",
    "test_data.drop(columns=[\"Cabin\"], inplace=True)"
   ]
  },
  {
   "cell_type": "code",
   "execution_count": null,
   "id": "64f932d5",
   "metadata": {},
   "outputs": [],
   "source": [
    "#data[\"Age\"].fillna(data[\"Age\"].mean(),inplace=True)\n",
    "data.fillna({\"Age\":data[\"Age\"].mean(),\"Embarked\":data[\"Embarked\"].mode()[0]},inplace=True)"
   ]
  },
  {
   "cell_type": "code",
   "execution_count": null,
   "id": "80e88b8d",
   "metadata": {},
   "outputs": [],
   "source": [
    "test_data.isnull().sum()"
   ]
  },
  {
   "cell_type": "code",
   "execution_count": null,
   "id": "84692fbb",
   "metadata": {},
   "outputs": [],
   "source": [
    "#test_data[\"Age\"].fillna(data[\"Age\"].mean(),inplace=True)\n",
    "test_data.fillna({\"Age\":test_data[\"Age\"].mean(),\"Fare\":test_data[\"Fare\"].mean()},inplace=True)"
   ]
  },
  {
   "cell_type": "markdown",
   "id": "d8fab32e",
   "metadata": {},
   "source": [
    "Now that we have cleaned data we are ready to prepare our data for ML modeling."
   ]
  },
  {
   "cell_type": "code",
   "execution_count": null,
   "id": "2fde4277",
   "metadata": {},
   "outputs": [],
   "source": [
    "data[\"Sex\"]=data[\"Sex\"].map({\"male\":0,\"female\":1})"
   ]
  },
  {
   "cell_type": "code",
   "execution_count": null,
   "id": "f12cba5d",
   "metadata": {},
   "outputs": [],
   "source": [
    "test_data[\"Sex\"]=test_data[\"Sex\"].map({\"male\":0,\"female\":1})"
   ]
  },
  {
   "cell_type": "code",
   "execution_count": null,
   "id": "e7527403",
   "metadata": {},
   "outputs": [],
   "source": [
    "data[\"Embarked\"] = data[\"Embarked\"].map({\"S\": 0, \"C\": 1, \"Q\": 2})\n",
    "test_data[\"Embarked\"] = test_data[\"Embarked\"].map({\"S\": 0, \"C\": 1, \"Q\": 2})\n"
   ]
  },
  {
   "cell_type": "code",
   "execution_count": null,
   "id": "7cd07fab",
   "metadata": {},
   "outputs": [],
   "source": [
    "data[\"Family Size\"]=data[\"Parch\"]+data[\"SibSp\"]\n",
    "test_data[\"Family Size\"]=test_data[\"Parch\"]+test_data[\"SibSp\"]"
   ]
  },
  {
   "cell_type": "code",
   "execution_count": null,
   "id": "e787677e",
   "metadata": {},
   "outputs": [],
   "source": [
    "data.head()"
   ]
  },
  {
   "cell_type": "code",
   "execution_count": null,
   "id": "f937849d",
   "metadata": {},
   "outputs": [],
   "source": [
    "test_data.head()"
   ]
  },
  {
   "cell_type": "code",
   "execution_count": null,
   "id": "75023f37",
   "metadata": {},
   "outputs": [],
   "source": [
    "features = [\"Pclass\", \"Sex\", \"Age\", \"Fare\", \"Embarked\", \"Family Size\"]\n",
    "x_train = data[features]\n",
    "y_train = data[\"Survived\"]\n",
    "x_test = test_data[features]\n"
   ]
  },
  {
   "cell_type": "code",
   "execution_count": null,
   "id": "7b9a61ca",
   "metadata": {},
   "outputs": [],
   "source": [
    "poly = PolynomialFeatures(degree=2, include_bias=False)\n",
    "x_train_poly = poly.fit_transform(x_train)\n",
    "x_test_poly = poly.transform(x_test)"
   ]
  },
  {
   "cell_type": "code",
   "execution_count": null,
   "id": "7341b7e5",
   "metadata": {},
   "outputs": [],
   "source": [
    "pipeline = make_pipeline(\n",
    "    StandardScaler(),\n",
    "    PolynomialFeatures(degree=2, include_bias=False),\n",
    "    LogisticRegression(max_iter=1000, solver='saga')\n",
    ")\n"
   ]
  },
  {
   "cell_type": "code",
   "execution_count": null,
   "id": "0df017fe",
   "metadata": {},
   "outputs": [],
   "source": [
    "pipeline.fit(x_train, y_train)\n",
    "scores = cross_val_score(pipeline, x_train, y_train, cv=5)\n",
    "print(\"CV Accuracy:\", scores.mean())"
   ]
  },
  {
   "cell_type": "code",
   "execution_count": null,
   "id": "d2683666",
   "metadata": {},
   "outputs": [],
   "source": [
    "y_pred = pipeline.predict(x_test)"
   ]
  },
  {
   "cell_type": "code",
   "execution_count": null,
   "id": "df23dfe2",
   "metadata": {},
   "outputs": [],
   "source": [
    "print(y_pred)"
   ]
  },
  {
   "cell_type": "code",
   "execution_count": null,
   "id": "10404b6a",
   "metadata": {},
   "outputs": [],
   "source": [
    "# Save results\n",
    "result = pd.DataFrame({\n",
    "    \"PassengerId\": test_data[\"PassengerId\"],\n",
    "    \"Survived\": y_pred\n",
    "})\n",
    "result.to_csv('submission.csv', index=False)\n"
   ]
  }
 ],
 "metadata": {
  "kernelspec": {
   "display_name": "Python 3",
   "language": "python",
   "name": "python3"
  },
  "language_info": {
   "codemirror_mode": {
    "name": "ipython",
    "version": 3
   },
   "file_extension": ".py",
   "mimetype": "text/x-python",
   "name": "python",
   "nbconvert_exporter": "python",
   "pygments_lexer": "ipython3",
   "version": "3.13.3"
  }
 },
 "nbformat": 4,
 "nbformat_minor": 5
}
