{
 "cells": [
  {
   "cell_type": "code",
   "execution_count": null,
   "id": "9ff1356b-f20d-4df5-a8a1-c2bfe7a88753",
   "metadata": {},
   "outputs": [],
   "source": [
    "import pandas as pd"
   ]
  },
  {
   "cell_type": "code",
   "execution_count": null,
   "id": "55b04bca-b20c-4eae-840f-8024d5e7ef28",
   "metadata": {},
   "outputs": [],
   "source": [
    "data=pd.read_csv(\"downloads/train.csv\")"
   ]
  },
  {
   "cell_type": "code",
   "execution_count": null,
   "id": "b981a093-ebac-4525-be61-1f87ad8f744a",
   "metadata": {},
   "outputs": [],
   "source": [
    "data.head(10)"
   ]
  },
  {
   "cell_type": "markdown",
   "id": "25514231-a59f-4449-b8c8-ff57cc73222c",
   "metadata": {},
   "source": [
    "## Cleaning the data\n"
   ]
  },
  {
   "cell_type": "code",
   "execution_count": null,
   "id": "59e7a5fe-7945-4817-bad3-14fba7a0b1fa",
   "metadata": {},
   "outputs": [],
   "source": [
    "data.isnull().sum()"
   ]
  },
  {
   "cell_type": "markdown",
   "id": "cb3d1d86-bca8-42ed-a167-d02bf0e621e7",
   "metadata": {},
   "source": [
    "<p>We can check that age, cabin and Embarked has null values hence we need to fix them</p>\n",
    "<OL>\n",
    "    <li>replace null age with median(age) of passengers.\n",
    "</li>\n",
    "    <li>\n",
    "drop cabin column as it has too many null values\n",
    "</li>\n",
    "    <li>\n",
    "we will keep embarked unchanged as it has no effect on results.</li>\n",
    "</OL>"
   ]
  },
  {
   "cell_type": "code",
   "execution_count": null,
   "id": "fec9f7da-480d-4ff9-b4ab-3b48a54a4ba3",
   "metadata": {},
   "outputs": [],
   "source": [
    "data[\"Age\"]=data[\"Age\"].fillna(data[\"Age\"].median())"
   ]
  },
  {
   "cell_type": "code",
   "execution_count": null,
   "id": "f431459e-8608-47f9-a253-0d78242e5899",
   "metadata": {},
   "outputs": [],
   "source": [
    "data= data.drop(columns=[\"Cabin\"])"
   ]
  },
  {
   "cell_type": "raw",
   "id": "80d3290d-b4b4-4d1c-bdd9-85c19ebc35c8",
   "metadata": {},
   "source": [
    "Task: Analyze the Titanic dataset to answer:\n",
    "\n",
    "Which gender had the highest survival rate?\n",
    "\n",
    "Did passengers with larger families pay higher fares?\n",
    "\n",
    "How did survival rates vary by age group?"
   ]
  },
  {
   "cell_type": "code",
   "execution_count": null,
   "id": "9b8747a0-b875-4a13-af28-8de550f0bf65",
   "metadata": {},
   "outputs": [],
   "source": [
    "gender_survival=data.groupby(\"Sex\")[\"Survived\"].mean()"
   ]
  },
  {
   "cell_type": "code",
   "execution_count": null,
   "id": "66fffbfc-7abe-4e6b-8626-df0b89cf2371",
   "metadata": {},
   "outputs": [],
   "source": [
    "Survived_gender=data.groupby(\"Sex\")[\"Survived\"].sum()"
   ]
  },
  {
   "cell_type": "code",
   "execution_count": null,
   "id": "fd9110ab-c200-458a-9718-6927ebaeaaba",
   "metadata": {},
   "outputs": [],
   "source": [
    "total_gender=data.groupby(\"Sex\")[\"Survived\"].count()"
   ]
  },
  {
   "cell_type": "code",
   "execution_count": null,
   "id": "c87b47b8-450e-4d0f-aabe-7aa24df8530d",
   "metadata": {},
   "outputs": [],
   "source": [
    "print(Survived_gender)"
   ]
  },
  {
   "cell_type": "code",
   "execution_count": null,
   "id": "6fe13aff-0509-4ed1-bd6d-6ebf3d2864d9",
   "metadata": {},
   "outputs": [],
   "source": [
    "print(total_gender)"
   ]
  },
  {
   "cell_type": "markdown",
   "id": "568bd331-a7b2-4e1d-846b-0234763c8302",
   "metadata": {},
   "source": [
    "## Analysis keypoints\n",
    "<UL>\n",
    "    <li>\n",
    "        Female survival rate was higher(74.2%) compared to males(18.9%).\n",
    "    </li>\n",
    "    <li>\n",
    "        233 females out of 314 total females survived, while only 109 men survived out of 577 onboard.\n",
    "    </li>\n",
    "</UL>"
   ]
  },
  {
   "cell_type": "code",
   "execution_count": null,
   "id": "97894ad6-1f7f-4db3-9518-3f4b7879c518",
   "metadata": {},
   "outputs": [],
   "source": [
    "data[\"familysize\"]=data[\"SibSp\"]+data[\"Parch\"]+1"
   ]
  },
  {
   "cell_type": "code",
   "execution_count": null,
   "id": "b7b8f742-200c-48f0-b886-313f708c161a",
   "metadata": {},
   "outputs": [],
   "source": [
    "data.groupby(\"familysize\")[\"Fare\"].mean().reset_index()"
   ]
  },
  {
   "cell_type": "markdown",
   "id": "c4cb0cca-a46d-49ff-933d-5f1be284500c",
   "metadata": {},
   "source": [
    "## Analysis keypoints\n",
    "<UL>\n",
    "    <li>\n",
    "        Families of 6 people paid highest average price \\$73.72.\n",
    "    </li>\n",
    "    <li>\n",
    "        Solo travelers paid lowest price per family i.e \\$21.24.\n",
    "    </li>\n",
    "    <li>\n",
    "        Trend shows that Families with high numbers of members paid higher price per family however price per person is lower. \n",
    "    </li>\n",
    "</UL>"
   ]
  },
  {
   "cell_type": "markdown",
   "id": "be6e5847",
   "metadata": {},
   "source": [
    "How did survival rates vary by age group?"
   ]
  },
  {
   "cell_type": "code",
   "execution_count": 1,
   "id": "4bf779e4",
   "metadata": {},
   "outputs": [
    {
     "name": "stdout",
     "output_type": "stream",
     "text": [
      "this is sample code to analyze Titanic dataset\n"
     ]
    }
   ],
   "source": [
    "print(\"this is sample code to analyze Titanic dataset\")"
   ]
  }
 ],
 "metadata": {
  "kernelspec": {
   "display_name": "Python 3",
   "language": "python",
   "name": "python3"
  },
  "language_info": {
   "codemirror_mode": {
    "name": "ipython",
    "version": 3
   },
   "file_extension": ".py",
   "mimetype": "text/x-python",
   "name": "python",
   "nbconvert_exporter": "python",
   "pygments_lexer": "ipython3",
   "version": "3.13.3"
  }
 },
 "nbformat": 4,
 "nbformat_minor": 5
}
