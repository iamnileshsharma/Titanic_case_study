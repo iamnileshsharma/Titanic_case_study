{
 "cells": [
  {
   "cell_type": "markdown",
   "id": "1846b78d",
   "metadata": {},
   "source": [
    "import pandas as pd"
   ]
  }
 ],
 "metadata": {
  "language_info": {
   "name": "python"
  }
 },
 "nbformat": 4,
 "nbformat_minor": 5
}
